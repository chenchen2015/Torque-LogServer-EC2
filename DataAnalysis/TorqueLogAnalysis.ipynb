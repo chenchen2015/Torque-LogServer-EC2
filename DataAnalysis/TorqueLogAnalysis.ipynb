{
 "cells": [
  {
   "cell_type": "code",
   "execution_count": 2,
   "metadata": {},
   "outputs": [],
   "source": [
    "import pandas as pd\n",
    "import numpy as np\n",
    "from datetime import datetime"
   ]
  },
  {
   "cell_type": "code",
   "execution_count": 3,
   "metadata": {},
   "outputs": [
    {
     "name": "stdout",
     "output_type": "stream",
     "text": [
      "session 1509673999804 (2017-11-02 20:53:19), 1678 records\n",
      "session 1509715520133 (2017-11-03 08:25:20), 493 records\n",
      "session 1509814879698 (2017-11-04 12:01:19), 468 records\n",
      "session 1510237809601 (2017-11-09 08:30:09), 2361 records\n"
     ]
    }
   ],
   "source": [
    "df = pd.read_csv('raw_logs.csv',header=0).groupby('session')\n",
    "for session, sdf in df:\n",
    "    timeStr = datetime.fromtimestamp(session/1000.0).strftime('%Y-%m-%d %H:%M:%S')\n",
    "    print('session {0} ({1}), {2} records'.format(session, timeStr, len(sdf.index)))\n",
    "    \n",
    "    # Sort by timestamp get the final average MPG for every trip (kff1205)\n",
    "    sdf = sdf.sort_values('time')\n",
    "    \n",
    "    # Remove invalid values\n",
    "    sdf = sdf[sdf.k43 != 0]\n",
    "    \n",
    "    # Key values\n",
    "    ## k11     =  Throttle Position(Manifold)\n",
    "    ## kc      =  Engine RPM\n",
    "    ## kff1271 =  Fuel used (trip)\n",
    "    ## kff1204 =  Trip Distance\n",
    "    ## kff1205 =  Trip average MPG"
   ]
  },
  {
   "cell_type": "code",
   "execution_count": 15,
   "metadata": {},
   "outputs": [
    {
     "data": {
      "text/plain": [
       "Index(['v', 'session', 'id', 'time', 'kff1005', 'kff1006', 'kff1001',\n",
       "       'kff1007', 'k4', 'k2f', 'k11', 'k5', 'kc', 'kd', 'kf', 'kff1226',\n",
       "       'kff1220', 'kff1221', 'k46', 'eml', 'k43', 'kff1271', 'k1f', 'kff1205',\n",
       "       'kff1204', 'kff1266', 'kff1270'],\n",
       "      dtype='object')"
      ]
     },
     "execution_count": 15,
     "metadata": {},
     "output_type": "execute_result"
    }
   ],
   "source": [
    "sdf.sort_values('time').keys()"
   ]
  },
  {
   "cell_type": "code",
   "execution_count": null,
   "metadata": {},
   "outputs": [],
   "source": []
  }
 ],
 "metadata": {
  "kernelspec": {
   "display_name": "Python 3",
   "language": "python",
   "name": "python3"
  },
  "language_info": {
   "codemirror_mode": {
    "name": "ipython",
    "version": 3
   },
   "file_extension": ".py",
   "mimetype": "text/x-python",
   "name": "python",
   "nbconvert_exporter": "python",
   "pygments_lexer": "ipython3",
   "version": "3.6.4"
  }
 },
 "nbformat": 4,
 "nbformat_minor": 2
}

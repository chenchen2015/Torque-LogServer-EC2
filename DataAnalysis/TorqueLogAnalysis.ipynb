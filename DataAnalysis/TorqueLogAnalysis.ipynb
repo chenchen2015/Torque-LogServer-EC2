{
 "cells": [
  {
   "cell_type": "code",
   "execution_count": 23,
   "metadata": {},
   "outputs": [],
   "source": [
    "import pandas as pd\n",
    "import numpy as np"
   ]
  },
  {
   "cell_type": "code",
   "execution_count": 44,
   "metadata": {},
   "outputs": [
    {
     "name": "stdout",
     "output_type": "stream",
     "text": [
      "name = 1509673999804, group = 45306\n",
      "name = 1509715520133, group = 13311\n",
      "name = 1509814879698, group = 12636\n",
      "name = 1510237809601, group = 63747\n"
     ]
    }
   ],
   "source": [
    "df = pd.read_csv('raw_logs.csv',header=0).groupby('session')\n",
    "for name, group in df:\n",
    "    print('name = {0}, group = {1}'.format(name, group.size))\n",
    "    \n",
    "# Sort timestamp inside a session and get the final average MPG for every trip (kff1205)"
   ]
  }
 ],
 "metadata": {
  "kernelspec": {
   "display_name": "Python 3",
   "language": "python",
   "name": "python3"
  },
  "language_info": {
   "codemirror_mode": {
    "name": "ipython",
    "version": 3
   },
   "file_extension": ".py",
   "mimetype": "text/x-python",
   "name": "python",
   "nbconvert_exporter": "python",
   "pygments_lexer": "ipython3",
   "version": "3.6.4"
  }
 },
 "nbformat": 4,
 "nbformat_minor": 2
}
